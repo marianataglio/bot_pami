{
 "cells": [
  {
   "cell_type": "code",
   "execution_count": 1,
   "id": "0926857f-bf37-412e-911b-a17bada01dc1",
   "metadata": {},
   "outputs": [],
   "source": [
    "import requests"
   ]
  },
  {
   "cell_type": "code",
   "execution_count": null,
   "id": "470a8365-2ba2-472c-9279-ec5b6e32e30d",
   "metadata": {},
   "outputs": [],
   "source": [
    "url = https://www.pami.org.ar/tramites"
   ]
  },
  {
   "cell_type": "code",
   "execution_count": 4,
   "id": "5a1cf716-b0bc-4841-a102-d5dd211f88bf",
   "metadata": {},
   "outputs": [
    {
     "name": "stdout",
     "output_type": "stream",
     "text": [
      "External Links:\n"
     ]
    }
   ],
   "source": [
    "import requests\n",
    "from bs4 import BeautifulSoup\n",
    "\n",
    "# fetch the page content\n",
    "url = \"https://www.pami.org.ar/tramites/\"\n",
    "response = requests.get(url)\n",
    "\n",
    "# check if the request was successful\n",
    "if response.status_code == 200:\n",
    "    # parse html\n",
    "    soup = BeautifulSoup(response.text, 'html.parser')\n",
    "    \n",
    "    # find all links\n",
    "    links = soup.find_all('a', href=True)\n",
    "    \n",
    "    # extract and filter external links\n",
    "    external_links = [link['href'] for link in links if link['href'].startswith('http')]\n",
    "    \n",
    "    print(\"External Links:\")\n",
    "    #for link in external_links:\n",
    "    #    print(link)\n",
    "else:\n",
    "    print(f\"Failed to fetch the page. Status code: {response.status_code}\")\n"
   ]
  },
  {
   "cell_type": "code",
   "execution_count": 12,
   "id": "b8c53133-379b-4829-b472-587af4b842c6",
   "metadata": {},
   "outputs": [
    {
     "data": {
      "text/plain": [
       "281"
      ]
     },
     "execution_count": 12,
     "metadata": {},
     "output_type": "execute_result"
    }
   ],
   "source": [
    "len(external_links)"
   ]
  },
  {
   "cell_type": "code",
   "execution_count": null,
   "id": "fd405307-165b-4334-98b2-7e31cf5205d6",
   "metadata": {},
   "outputs": [],
   "source": [
    "import os\n",
    "import requests\n",
    "import time\n",
    "\n",
    "output_dir = \"pami_html\"\n",
    "os.makedirs(output_dir, exist_ok=True)\n",
    "\n",
    "# loop through each link and save the HTML content\n",
    "for idx, link in enumerate(external_links):\n",
    "    filename = os.path.join(output_dir, f\"page_{idx + 1}.html\")\n",
    "\n",
    "    if os.path.exists(filename):\n",
    "        print(f\"File already exists: {filename}. Skipping download.\")\n",
    "        continue\n",
    "    try:\n",
    "        response = requests.get(link)\n",
    "        # checking if the request was successful\n",
    "        if response.status_code == 200:\n",
    "            with open(filename, \"w\", encoding=\"utf-8\") as file:\n",
    "                file.write(response.text)      \n",
    "            print(f\"Saved: {filename}\")\n",
    "        else:\n",
    "            print(f\"Failed to fetch {link}: Status code {response.status_code}\")\n",
    "    except Exception as e:\n",
    "        print(f\"Error fetching {link}: {e}\")\n",
    "    \n",
    "    # sleep for 5 seconds before the next request\n",
    "    print(\"Sleeping for 5 seconds to avoid being flagged.\")\n",
    "    time.sleep(1)\n",
    "\n",
    "print(\"Scraping complete.\")"
   ]
  },
  {
   "cell_type": "code",
   "execution_count": 21,
   "id": "5859a7dd-b48e-4c1f-8b49-b148a81f92a3",
   "metadata": {},
   "outputs": [
    {
     "data": {
      "text/plain": [
       "['https://www.pami.org.ar/emergencias',\n",
       " 'https://www.pami.org.ar/preinicio',\n",
       " 'https://www.pami.org.ar/preinicio',\n",
       " 'https://www.pami.org.ar/historia',\n",
       " 'https://www.pami.org.ar/autoridades',\n",
       " 'https://www.pami.org.ar/boletin-oficial',\n",
       " 'http://transparenciaactiva.pami.org.ar',\n",
       " 'https://www.scba.gov.ar/paginas.asp?id=41927',\n",
       " 'https://servicios.csjn.gov.ar/formularios/deox.html',\n",
       " 'https://www.pami.org.ar/novedades',\n",
       " 'https://www.pami.org.ar/medicamentos',\n",
       " 'https://www.pami.org.ar/tramites',\n",
       " 'https://turnos.pami.org.ar/',\n",
       " 'https://www.pami.org.ar/afiliateapami',\n",
       " 'https://www.pami.org.ar/reclamos',\n",
       " 'https://www.pami.org.ar/tramites/consultar',\n",
       " 'https://www.pami.org.ar/cartilla',\n",
       " 'https://www.pami.org.ar/listado-mdc',\n",
       " 'https://www.pami.org.ar/credencial-provisoria',\n",
       " 'https://www.pami.org.ar/credencial']"
      ]
     },
     "execution_count": 21,
     "metadata": {},
     "output_type": "execute_result"
    }
   ],
   "source": [
    "external_links[0:20]"
   ]
  },
  {
   "cell_type": "code",
   "execution_count": null,
   "id": "c28fabc6-acc6-4733-8487-6a6c6b732aa5",
   "metadata": {},
   "outputs": [],
   "source": []
  }
 ],
 "metadata": {
  "kernelspec": {
   "display_name": "llm",
   "language": "python",
   "name": "llm"
  },
  "language_info": {
   "codemirror_mode": {
    "name": "ipython",
    "version": 3
   },
   "file_extension": ".py",
   "mimetype": "text/x-python",
   "name": "python",
   "nbconvert_exporter": "python",
   "pygments_lexer": "ipython3",
   "version": "3.11.7"
  }
 },
 "nbformat": 4,
 "nbformat_minor": 5
}
