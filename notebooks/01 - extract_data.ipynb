{
 "cells": [
  {
   "cell_type": "markdown",
   "id": "a5aa2701-dec3-4275-88c3-845080574f2a",
   "metadata": {},
   "source": [
    "### Extract data from Boletin oficial\n",
    "* Source: https://www.pami.org.ar/boletin-oficial\n",
    "* Dates: 2024\n",
    "* Type: all"
   ]
  },
  {
   "cell_type": "code",
   "execution_count": 13,
   "id": "7da2982b-17b7-4081-897c-3f4c77dbce95",
   "metadata": {},
   "outputs": [],
   "source": [
    "import os\n",
    "import requests\n",
    "from datetime import datetime\n",
    "import time"
   ]
  },
  {
   "cell_type": "code",
   "execution_count": 7,
   "id": "79d922e2-f6c9-40ad-afa1-a724697c34f0",
   "metadata": {},
   "outputs": [],
   "source": [
    "#url_boletin = \"https://institucional.pami.org.ar/files/boletines_inssjp/16-04-24.pdf?\""
   ]
  },
  {
   "cell_type": "code",
   "execution_count": 22,
   "id": "4dc4f905-f0b4-4a85-9b57-4a98cc606e26",
   "metadata": {},
   "outputs": [],
   "source": [
    "base_url = \"https://institucional.pami.org.ar/files/boletines_inssjp/\"\n",
    "year = \"24\"\n",
    "\n",
    "os.makedirs(\"data\", exist_ok=True)"
   ]
  },
  {
   "cell_type": "code",
   "execution_count": 23,
   "id": "08f6e8bd-71eb-415d-8d2a-cdf8906a6939",
   "metadata": {},
   "outputs": [],
   "source": [
    "def generate_dates(year):\n",
    "    dates = []\n",
    "    for month in range(1,13):\n",
    "        for day in range(1, 32):\n",
    "            try:\n",
    "                date = datetime.strptime(f\"{day:02d}-{month:02d}-{year}\", \"%d-%m-%y\")\n",
    "                dates.append(date.strftime(\"%d-%m-24\"))\n",
    "            except:\n",
    "                ValueError\n",
    "                continue\n",
    "    return dates"
   ]
  },
  {
   "cell_type": "code",
   "execution_count": 36,
   "id": "e7dbead3-da3e-413e-831f-8634ce8f916e",
   "metadata": {},
   "outputs": [],
   "source": [
    "def download_pdf(dates, batch_size=3, pause_duration=10):\n",
    "    count = 0\n",
    "    for date in dates:\n",
    "        pdf_path = os.path.join(\"data\", f\"{date}.pdf\")\n",
    "        pdf_url = f\"{base_url}{date}.pdf\"\n",
    "        # if file already exists lets skip it\n",
    "        if os.path.exists(pdf_path):\n",
    "            print(f\"File already exists, skipping:{pdf_path}\")\n",
    "            continue\n",
    "        try:\n",
    "            response =requests.get(pdf_url)\n",
    "            if response.status_code == 200:\n",
    "                with open(pdf_path, \"wb\") as file:\n",
    "                    file.write(response.content)\n",
    "                print(f\"Downloaded: {pdf_url}\")\n",
    "                count +=1\n",
    "            else:\n",
    "                print(f\"Not found: {pdf_url} (status:{response.status_code}\")\n",
    "        except requests.RequestException as e:\n",
    "            print(f\"Error downloading {pdf_url}: {e}\")\n",
    "\n",
    "        if count >=batch_size:\n",
    "            print(f\"Downloaded {batch_size} files. Pausing for {pause_duration} seconds\")\n",
    "            time.sleep(pause_duration)\n",
    "            count = 0 #reset counter\n"
   ]
  },
  {
   "cell_type": "code",
   "execution_count": null,
   "id": "9cb7ebe6-29d7-497d-8553-2edc9bf72fde",
   "metadata": {},
   "outputs": [],
   "source": [
    "dates = generate_dates(year)\n",
    "download_pdf(dates, batch_size=3, pause_duration=10)"
   ]
  },
  {
   "cell_type": "code",
   "execution_count": 39,
   "id": "d40c9204-f09d-44b5-b414-7d4f10d1e6a7",
   "metadata": {},
   "outputs": [
    {
     "name": "stdout",
     "output_type": "stream",
     "text": [
      "     219\n"
     ]
    }
   ],
   "source": [
    "! ls data | wc -l"
   ]
  }
 ],
 "metadata": {
  "kernelspec": {
   "display_name": "llm",
   "language": "python",
   "name": "llm"
  },
  "language_info": {
   "codemirror_mode": {
    "name": "ipython",
    "version": 3
   },
   "file_extension": ".py",
   "mimetype": "text/x-python",
   "name": "python",
   "nbconvert_exporter": "python",
   "pygments_lexer": "ipython3",
   "version": "3.11.7"
  }
 },
 "nbformat": 4,
 "nbformat_minor": 5
}
