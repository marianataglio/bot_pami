{
 "cells": [
  {
   "cell_type": "markdown",
   "id": "acdfd3f3-6078-43ec-8e8d-a1c7cec6cc3a",
   "metadata": {},
   "source": [
    "### Notas\n",
    "\n",
    "1. los numeros de resolucion y las fechas son importantes porque hay resoluciones mas nuevas que dejan sin efecto resoluciones nteriores. Ej: 11-11-24.pdf  ARTÍCULO 1°- Dejar sin efecto en todos sus términos las Resolución N° RESOL-2024-3144-INSSJP-DE#INSSJ"
   ]
  },
  {
   "cell_type": "code",
   "execution_count": 1,
   "id": "cf259c4f-2e9b-42cd-a92c-05510da46f18",
   "metadata": {},
   "outputs": [],
   "source": [
    "import pandas as pd"
   ]
  },
  {
   "cell_type": "code",
   "execution_count": 2,
   "id": "e4811234-8848-4fc0-b521-2301b9291f17",
   "metadata": {},
   "outputs": [],
   "source": [
    "with open('data/txt/01-02-24.txt', 'r') as file:\n",
    "    content = file.read()\n",
    "#print(content)"
   ]
  },
  {
   "cell_type": "code",
   "execution_count": 3,
   "id": "f1caff0d-eec4-4cbe-ac79-43a044579612",
   "metadata": {},
   "outputs": [],
   "source": [
    "content = content.lower()"
   ]
  },
  {
   "cell_type": "code",
   "execution_count": 5,
   "id": "83951dd2-34f5-4042-88eb-8794b45d78bc",
   "metadata": {},
   "outputs": [],
   "source": [
    "#print(content)"
   ]
  },
  {
   "cell_type": "markdown",
   "id": "e7776c84-b1b2-4d66-b841-a1aa76434b54",
   "metadata": {},
   "source": [
    "1. Parsear boletin oficial en Resoluciones, disposiciones, etc.\n",
    "2. Keywords extract, filtrar el contenido no relevante.\n",
    "3. Summarize content\n",
    "4. Agregar categoria"
   ]
  },
  {
   "cell_type": "code",
   "execution_count": 28,
   "id": "a751eebc-0851-4126-8fa6-a13b130bcd7b",
   "metadata": {},
   "outputs": [],
   "source": [
    "import os\n",
    "\n",
    "def load_files(dir):\n",
    "   \"\"\"\n",
    "    Loads all .txt files from a folder and stores them in a dictionary.\n",
    "    :param dir: Path to the folder containing the .txt files.\n",
    "    :return: Dictionary with file names as keys and content as values.\n",
    "    \"\"\"\n",
    "    files = {}\n",
    "    for file in os.listdir(dir):\n",
    "        if file.endswith(\".txt\"):\n",
    "            path = os.path.join(dir, file)\n",
    "            with open(path, 'r', encoding='utf-8') as f:\n",
    "                files[file] = f.read()\n",
    "    return files"
   ]
  },
  {
   "cell_type": "code",
   "execution_count": 29,
   "id": "e701ad2d-da32-4395-aca6-81a7daf05dd4",
   "metadata": {},
   "outputs": [],
   "source": [
    "dir_txt = \"data/txt\"\n",
    "files = load_files(dir_txt)"
   ]
  },
  {
   "cell_type": "code",
   "execution_count": 30,
   "id": "8cca120f-7f03-4b96-a701-4c22b9af230f",
   "metadata": {},
   "outputs": [],
   "source": [
    "#files"
   ]
  },
  {
   "cell_type": "code",
   "execution_count": 87,
   "id": "b81fd31c-774f-4108-aefa-4d9a0b1a0f72",
   "metadata": {},
   "outputs": [],
   "source": [
    "def divide_sections(text, delimiter=\"•\"):\n",
    "     \"\"\"\n",
    "    Divides a text into sections using a delimiter.\n",
    "    :param text: The full text to be divided.\n",
    "    :param delimiter: The pattern used to separate sections (default is empty lines).\n",
    "    :return: A list of sections.\n",
    "    \"\"\"\n",
    "    return text.split(delimiter)"
   ]
  },
  {
   "cell_type": "code",
   "execution_count": 88,
   "id": "a49ab69f-7321-4a90-8791-1cba759b6e76",
   "metadata": {},
   "outputs": [],
   "source": [
    "sections_per_file = {name: divide_sections(content) for name, content in files.items()}"
   ]
  },
  {
   "cell_type": "code",
   "execution_count": 89,
   "id": "bf60df73-8b09-42f8-871c-7be498b7c4a3",
   "metadata": {},
   "outputs": [
    {
     "name": "stdout",
     "output_type": "stream",
     "text": [
      "File: 30-07-24.txt\n",
      "Sections found: 14\n",
      "First section: BOLETÍN DEL INSTITUTO\n",
      "\n",
      "Índice\n",
      "\n",
      "RESOLUCIONES\n",
      "\n",
      "Dirección Ejecutiva\n",
      "\n",
      "...\n",
      "\n"
     ]
    }
   ],
   "source": [
    "# example\n",
    "for name, sections in sections_per_file.items():\n",
    "    print(f\"File: {name}\")\n",
    "    print(f\"Sections found: {len(sections)}\")\n",
    "    print(f\"First section: {sections[0][:9000]}...\\n\")\n",
    "    break"
   ]
  },
  {
   "cell_type": "code",
   "execution_count": 90,
   "id": "f67cb6a7-21e7-4532-ba7d-98b81beec269",
   "metadata": {},
   "outputs": [
    {
     "name": "stdout",
     "output_type": "stream",
     "text": [
      "🔹 **File 1: 30-07-24.txt**\n",
      "Sections found: 14\n",
      "\n",
      "  ✂️ Section 1:\n",
      "B...\n",
      "[...] (Contenido truncado: 66 caracteres)\n",
      "\n",
      "================================================================================\n",
      "\n"
     ]
    }
   ],
   "source": [
    "# Mostrar más ejemplos y contenido extenso\n",
    "num_files = 1\n",
    "num_sections = 1 # per file\n",
    "max_chars = 1\n",
    "\n",
    "for idx, (name, sections) in enumerate(sections_per_file.items()):\n",
    "    print(f\"🔹 **File {idx + 1}: {name}**\")\n",
    "    print(f\"Sections found: {len(sections)}\\n\")\n",
    "    \n",
    "    # algunas secciones del archivo\n",
    "    for i, section in enumerate(sections[:num_sections]):\n",
    "        print(f\"  ✂️ Section {i + 1}:\\n{section[:max_chars]}...\")\n",
    "        if len(section) > max_chars:\n",
    "            print(f\"[...] (Contenido truncado: {len(section)} caracteres)\\n\")\n",
    "        else:\n",
    "            print(\"\\n\")\n",
    "    \n",
    "    print(\"=\" * 80 + \"\\n\")\n",
    "    \n",
    "    if idx + 1 >= num_files:  # Limitar el número de archivos mostrados\n",
    "        break\n"
   ]
  },
  {
   "cell_type": "markdown",
   "id": "e0a8befd-7c7e-40fb-97c3-422827b28dc4",
   "metadata": {},
   "source": [
    "### Filtrar secciones\n",
    "Una vez que tengo las secciones parseadas (delimitadas), quiero encontrar las secciones que tienen determinados keywords para despues filtrarlas."
   ]
  },
  {
   "cell_type": "code",
   "execution_count": 91,
   "id": "8ff86dd1-baea-44d7-ab44-ece293ba966c",
   "metadata": {},
   "outputs": [],
   "source": [
    "def filter_sections_keyword(sections, keywords):\n",
    "    \"\"\"\n",
    "    Filter sections that contain certain keywords\n",
    "    :param sections: List of sections.\n",
    "    :param keywords: List of keywords to search for in the text.\n",
    "    :return: List of sections that contain any of the keywords.\n",
    "    \"\"\"\n",
    "    keywords = [word.lower() for word in keywords]  # Convertir palabras clave a minúsculas\n",
    "    filtered_sections = [\n",
    "        section for section in sections \n",
    "        if any(word in section.lower() for word in keywords)\n",
    "    ]\n",
    "    return filtered_sections"
   ]
  },
  {
   "cell_type": "code",
   "execution_count": 92,
   "id": "1254dc59-e3bc-4b6a-8b7c-41d1f4e7a775",
   "metadata": {},
   "outputs": [],
   "source": [
    "keywords = [\"designar\", \"designa\"]"
   ]
  },
  {
   "cell_type": "code",
   "execution_count": 93,
   "id": "34bc07c9-e1ae-4a0d-b749-8d5683c949bd",
   "metadata": {},
   "outputs": [],
   "source": [
    "# create dict comprehension\n",
    "\n",
    "filtered_section_by_file = {name: filter_sections_keyword(sections, keywords) for name, sections in sections_per_file.items()}"
   ]
  },
  {
   "cell_type": "code",
   "execution_count": 94,
   "id": "2d7cde82-252f-4184-b614-856532e67321",
   "metadata": {},
   "outputs": [],
   "source": [
    "def show_filtered_sections(filtered_section_by_file, max_files=1):\n",
    "    for idx, (name, filtered_sections) in enumerate(filtered_section_by_file.items()):\n",
    "        if idx >= max_files:\n",
    "            break\n",
    "        print(f\"🔹 File: {name}\")\n",
    "        print(f\"Sections that contain keywords: {len(filtered_sections)}\\n\")\n",
    "        for i, section in enumerate(filtered_sections[:2]): # up to 3 examples per file\n",
    "            print(f\"✂️ Section {i+1}:\\n{section[:300]}...\")\n",
    "            print(\"[...]\\n\")\n",
    "        print(\"=\"*80 + \"\\n\")"
   ]
  },
  {
   "cell_type": "code",
   "execution_count": 102,
   "id": "26ee24b7-8c85-46d6-92d0-674c2954b81e",
   "metadata": {},
   "outputs": [],
   "source": [
    "#show_filtered_sections(filtered_section_by_file, max_files=3)"
   ]
  },
  {
   "cell_type": "markdown",
   "id": "19e81514-a7c5-4aaf-aaf5-e571a398ed7f",
   "metadata": {},
   "source": [
    "#### Save filtered sections to txt"
   ]
  },
  {
   "cell_type": "code",
   "execution_count": 103,
   "id": "30717e6a-86c5-4954-b0ac-a82324d1a814",
   "metadata": {},
   "outputs": [],
   "source": [
    "def save_sections_to_individual_files(section_dict, output_folder):\n",
    "    \"\"\"\n",
    "    Save sections from a dictionary into individual .txt files.\n",
    "    :param section_dict: Dictionary where keys are filenames and values are lists of sections.\n",
    "    :param output_folder: Folder to save individual .txt files.\n",
    "    \"\"\"\n",
    "    os.makedirs(output_folder, exist_ok=True)\n",
    "    for file_name, sections in section_dict.items():\n",
    "        file_path = os.path.join(output_folder, f\"{file_name}.txt\")\n",
    "        with open(file_path, \"w\", encoding=\"utf-8\") as f:\n",
    "            for i, section in enumerate(sections):\n",
    "                f.write(f\"Section {i + 1}:\\n{section.strip()}\\n{'-' * 80}\\n\")\n",
    "\n",
    "# Save filtered sections to individual files\n",
    "save_sections_to_individual_files(filtered_section_by_file, \"data/filtered_sections\")"
   ]
  },
  {
   "cell_type": "code",
   "execution_count": 96,
   "id": "92a497e3-6b11-4733-b04c-a8fce2110a1c",
   "metadata": {},
   "outputs": [],
   "source": [
    "#with open('filtered_sections.txt', 'w') as file:\n",
    "#    for key, value in filtered_section_by_file.items():\n",
    "#        file.write(f\"{key}: {value}\\n\")"
   ]
  },
  {
   "cell_type": "markdown",
   "id": "8176a92d-4544-4d56-945c-40e449a17e1a",
   "metadata": {},
   "source": [
    "#### Save rest of sections to txt"
   ]
  },
  {
   "cell_type": "code",
   "execution_count": 97,
   "id": "1777f5e2-e966-48c1-af86-fdd189d5f15a",
   "metadata": {},
   "outputs": [],
   "source": [
    "def exclude_sections_keyword(sections, keywords):\n",
    "    \"\"\"\n",
    "    Filter sections that DO NOT contain certain keywords.\n",
    "    :param sections: List of sections.\n",
    "    :param keywords: List of keywords to search for in the text.\n",
    "    :return: List of sections that do not contain any of the keywords.\n",
    "    \"\"\"\n",
    "    keywords = [word.lower() for word in keywords]  # Convert keywords to lowercase\n",
    "    excluded_sections = [\n",
    "        section for section in sections \n",
    "        if not any(word in section.lower() for word in keywords)\n",
    "    ]\n",
    "    return excluded_sections"
   ]
  },
  {
   "cell_type": "code",
   "execution_count": 100,
   "id": "aef3bee8-17f2-4133-965e-8ba84c451225",
   "metadata": {},
   "outputs": [],
   "source": [
    "# create dict comprehension\n",
    "excluded_section_by_file = {name: exclude_sections_keyword(sections, keywords) for name, sections in sections_per_file.items()}"
   ]
  },
  {
   "cell_type": "code",
   "execution_count": 104,
   "id": "568367db-427a-44a4-89dc-8ff282b04145",
   "metadata": {},
   "outputs": [],
   "source": [
    "# Save filtered sections to individual files\n",
    "save_sections_to_individual_files(excluded_section_by_file, \"data/unfiltered_sections\")"
   ]
  },
  {
   "cell_type": "code",
   "execution_count": 101,
   "id": "6e162ed3-bfc3-4f65-ab80-fed7d9517b69",
   "metadata": {},
   "outputs": [],
   "source": [
    "#with open('unfiltered_sections.txt', 'w') as file:\n",
    "#    for key, value in excluded_section_by_file.items():\n",
    "#        file.write(f\"{key}: {value}\\n\")"
   ]
  }
 ],
 "metadata": {
  "kernelspec": {
   "display_name": "llm",
   "language": "python",
   "name": "llm"
  },
  "language_info": {
   "codemirror_mode": {
    "name": "ipython",
    "version": 3
   },
   "file_extension": ".py",
   "mimetype": "text/x-python",
   "name": "python",
   "nbconvert_exporter": "python",
   "pygments_lexer": "ipython3",
   "version": "3.11.7"
  }
 },
 "nbformat": 4,
 "nbformat_minor": 5
}
